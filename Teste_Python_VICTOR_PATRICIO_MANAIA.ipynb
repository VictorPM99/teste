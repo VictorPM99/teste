{
  "nbformat": 4,
  "nbformat_minor": 0,
  "metadata": {
    "colab": {
      "name": "Teste Python - VICTOR PATRICIO MANAIA.ipynb",
      "provenance": [],
      "collapsed_sections": [],
      "authorship_tag": "ABX9TyMRrbThH/znk8ig4FfyFVbl",
      "include_colab_link": true
    },
    "kernelspec": {
      "name": "python3",
      "display_name": "Python 3"
    }
  },
  "cells": [
    {
      "cell_type": "markdown",
      "metadata": {
        "id": "view-in-github",
        "colab_type": "text"
      },
      "source": [
        "<a href=\"https://colab.research.google.com/github/VictorPM99/teste/blob/main/Teste_Python_VICTOR_PATRICIO_MANAIA.ipynb\" target=\"_parent\"><img src=\"https://colab.research.google.com/assets/colab-badge.svg\" alt=\"Open In Colab\"/></a>"
      ]
    },
    {
      "cell_type": "code",
      "metadata": {
        "id": "ydkWGBBiw3Nu",
        "colab": {
          "base_uri": "https://localhost:8080/"
        },
        "outputId": "1dc9158d-48b9-431b-bcf8-7cae7f798b44"
      },
      "source": [
        "\"EXERCÍCIO 1\"\r\n",
        "num=0\r\n",
        "cont=0\r\n",
        "list=[]\r\n",
        "while num in range(0,5000000):\r\n",
        "  num=num+1\r\n",
        "  if num%2==0 and num%37==0 and num%49==0:\r\n",
        "    cont=cont+1\r\n",
        "    list.append([num])\r\n",
        "\r\n",
        "print(f'O total de números no intervalo de 1 a 5 milhões, pares, múltiplos de 49 e múltiplos de 37 são: {cont}')\r\n",
        "#print(f'Os números são: {list}')"
      ],
      "execution_count": 133,
      "outputs": [
        {
          "output_type": "stream",
          "text": [
            "O total de números no intervalo de 1 a 5 milhões, pares, múltiplos de 49 e múltiplos de 37 são: 1378\n"
          ],
          "name": "stdout"
        }
      ]
    },
    {
      "cell_type": "code",
      "metadata": {
        "id": "BhHc_d8mzTTr",
        "colab": {
          "base_uri": "https://localhost:8080/"
        },
        "outputId": "fd8d7526-51ca-4d5f-8389-c03055fc97f4"
      },
      "source": [
        "\"EXERCÍCIO 2\"\r\n",
        "import numpy as np\r\n",
        "import math\r\n",
        "a =0\r\n",
        "i=0\r\n",
        "vetorx=np.array([])\r\n",
        "lista =[]\r\n",
        "while a<11:\r\n",
        "  if i%2==0:\r\n",
        "    n = ((math.pow(3,i)+(7*(math.factorial(i)))))\r\n",
        "    x = float(np.append(vetorx,n))\r\n",
        "    print(f'O valor deste vetor é: {x:.2f}. Sua posição é a {i}º')\r\n",
        "    a=a+1\r\n",
        "    i=i+1\r\n",
        "  else:\r\n",
        "    m = math.pow(2,i)+4*math.log(i)\r\n",
        "    y = float(np.append(vetorx,m))\r\n",
        "    print(f'O valor deste vetor é: {y:.2f}. Sua posição é a {i}º')\r\n",
        "    a=a+1\r\n",
        "    i=i+1\r\n",
        "media = x+y/10\r\n",
        "print(f'Essa é a média: {media}')\r\n",
        "print('O maior valor está na 10º posição')"
      ],
      "execution_count": 131,
      "outputs": [
        {
          "output_type": "stream",
          "text": [
            "O valor deste vetor é: 8.00. Sua posição é a 0º\n",
            "O valor deste vetor é: 2.00. Sua posição é a 1º\n",
            "O valor deste vetor é: 23.00. Sua posição é a 2º\n",
            "O valor deste vetor é: 12.39. Sua posição é a 3º\n",
            "O valor deste vetor é: 249.00. Sua posição é a 4º\n",
            "O valor deste vetor é: 38.44. Sua posição é a 5º\n",
            "O valor deste vetor é: 5769.00. Sua posição é a 6º\n",
            "O valor deste vetor é: 135.78. Sua posição é a 7º\n",
            "O valor deste vetor é: 288801.00. Sua posição é a 8º\n",
            "O valor deste vetor é: 520.79. Sua posição é a 9º\n",
            "O valor deste vetor é: 25460649.00. Sua posição é a 10º\n",
            "Essa é a média: 25460701.078889832\n",
            "O maior valor está na 10º posição\n"
          ],
          "name": "stdout"
        }
      ]
    },
    {
      "cell_type": "code",
      "metadata": {
        "colab": {
          "base_uri": "https://localhost:8080/"
        },
        "id": "rf0kwGTm8jRS",
        "outputId": "e27fa370-13c7-4fdd-eed7-aeae00c5eeb5"
      },
      "source": [
        "\"EXERCÍCIO 3\"\r\n",
        "from random import randint\r\n",
        "lista10=[]\r\n",
        "cont10=0\r\n",
        "for i in range (1,6):\r\n",
        "  x10=randint(1,10)\r\n",
        "  print(f'O aluno {i} obteve nota: {x10}')\r\n",
        "  lista10.append(x10)\r\n",
        "print(lista10)\r\n",
        "maximo=max(lista10)\r\n",
        "for con in range(1,5):\r\n",
        "  lista10[con]\r\n",
        "  if lista10[con]==maximo:\r\n",
        "    print(f'A maior nota corresponde ao aluno {con+1} que obteve a nota {maximo}')"
      ],
      "execution_count": 132,
      "outputs": [
        {
          "output_type": "stream",
          "text": [
            "O aluno 1 obteve nota: 1\n",
            "O aluno 2 obteve nota: 6\n",
            "O aluno 3 obteve nota: 5\n",
            "O aluno 4 obteve nota: 4\n",
            "O aluno 5 obteve nota: 3\n",
            "[1, 6, 5, 4, 3]\n",
            "A maior nota corresponde ao aluno 2 que obteve a nota 6\n"
          ],
          "name": "stdout"
        }
      ]
    }
  ]
}